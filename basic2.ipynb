{
 "cells": [
  {
   "cell_type": "code",
   "execution_count": null,
   "id": "4981add5",
   "metadata": {},
   "outputs": [
    {
     "name": "stdout",
     "output_type": "stream",
     "text": [
      "a:10,b:20,the total of a and b is:30\n",
      "a:10,b:20,a-b:-10\n",
      "a:10,b:20,a*b:200\n",
      "a:10,b:20,a/b:0.5\n",
      "a:10,b:20,a%b:\n",
      "a:10,b:20a//b:\n",
      "a:10,b:20,a**b:\n",
      "d:2,e:3,Thde exponentiation of d and e is 8\n"
     ]
    }
   ],
   "source": [
    "#Python operators:- arithmetic,comparison,Logical,bitwise,assignment,membership,identity.\n",
    "#(1)Operators:->Special symbol(+,-,*,%)\n",
    "#(2)Operands:->\n",
    "#(3)Operation:->\n",
    "#(1)Arithmetic operators:->(+,-,*,%,/,//,**)\n",
    "a=10\n",
    "b=20\n",
    "c=0\n",
    "\n",
    "c=a+b       #addition\n",
    "print(\"a:{},b:{},the total of a and b is:{}\".format(a,b,c))\n",
    "c=a-b       #subtraction\n",
    "print(\"a:{},b:{},a-b:{}\".format(a,b,c))\n",
    "c=a*b       #multiplication\n",
    "print(\"a:{},b:{},a*b:{}\".format(a,b,c))\n",
    "c=a/b       #division\n",
    "print(\"a:{},b:{},a/b:{}\".format(a,b,c))\n",
    "c=b%a       #m0dules\n",
    "print(\"a:{},b:{},a%b:\".format(a,b,c))\n",
    "c=a//b      #Floor division\n",
    "print(\"a:{},b:{}a//b:\".format(a,b,c))\n",
    "c=a**b      #exponentiation\n",
    "print(\"a:{},b:{},a**b:\".format(a,b,c))\n",
    "d=2\n",
    "e=3\n",
    "c=d**e      \n",
    "print(\"d:{},e:{},Thde exponentiation of d and e is {}\".format(d,e,c))\n",
    "\n"
   ]
  },
  {
   "cell_type": "code",
   "execution_count": null,
   "id": "eeafa509",
   "metadata": {},
   "outputs": [],
   "source": [
    "#                   or Relational bhi same hote h or yeh boolean value hi dega use krte hai looping ke sath.\n",
    "#Comparsion operators:->(==,!=,>,<,>=,<=)\n",
    "\n"
   ]
  }
 ],
 "metadata": {
  "kernelspec": {
   "display_name": "Python 3",
   "language": "python",
   "name": "python3"
  },
  "language_info": {
   "codemirror_mode": {
    "name": "ipython",
    "version": 3
   },
   "file_extension": ".py",
   "mimetype": "text/x-python",
   "name": "python",
   "nbconvert_exporter": "python",
   "pygments_lexer": "ipython3",
   "version": "3.11.9"
  }
 },
 "nbformat": 4,
 "nbformat_minor": 5
}
