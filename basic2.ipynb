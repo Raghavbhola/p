{
 "cells": [
  {
   "cell_type": "code",
   "execution_count": null,
   "id": "4981add5",
   "metadata": {},
   "outputs": [
    {
     "name": "stdout",
     "output_type": "stream",
     "text": [
      "a:10,b:20,the total of a and b is:30\n",
      "a:10,b:20,a-b:-10\n",
      "a:10,b:20,a*b:200\n",
      "a:10,b:20,a/b:0.5\n",
      "a:10,b:20,a%b:\n",
      "a:10,b:20a//b:\n",
      "a:10,b:20,a**b:\n",
      "d:2,e:3,Thde exponentiation of d and e is 8\n"
     ]
    }
   ],
   "source": [
    "#Python operators:- arithmetic,comparison,Logical,bitwise,assignment,membership,identity.\n",
    "#(1)Operators:->Special symbol(+,-,*,%)\n",
    "#(2)Operands:->\n",
    "#(3)Operation:->\n",
    "#(1)Arithmetic operators:->(+,-,*,%,/,//,**)\n",
    "a=10\n",
    "b=20\n",
    "c=0\n",
    "\n",
    "c=a+b       #addition\n",
    "print(\"a:{},b:{},the total of a and b is:{}\".format(a,b,c))\n",
    "c=a-b       #subtraction\n",
    "print(\"a:{},b:{},a-b:{}\".format(a,b,c))\n",
    "c=a*b       #multiplication\n",
    "print(\"a:{},b:{},a*b:{}\".format(a,b,c))\n",
    "c=a/b       #division\n",
    "print(\"a:{},b:{},a/b:{}\".format(a,b,c))\n",
    "c=b%a       #m0dules\n",
    "print(\"a:{},b:{},a%b:\".format(a,b,c))\n",
    "c=a//b      #Floor division\n",
    "print(\"a:{},b:{}a//b:\".format(a,b,c))\n",
    "c=a**b      #exponentiation\n",
    "print(\"a:{},b:{},a**b:\".format(a,b,c))\n",
    "d=2\n",
    "e=3\n",
    "c=d**e      \n",
    "print(\"d:{},e:{},Thde exponentiation of d and e is {}\".format(d,e,c))\n",
    "\n"
   ]
  },
  {
   "cell_type": "code",
   "execution_count": null,
   "id": "eeafa509",
   "metadata": {},
   "outputs": [
    {
     "name": "stdout",
     "output_type": "stream",
     "text": [
      "a:10,b:20,the result of a==b is:False\n",
      "a:10,b:20,the result of a!=b is:True\n",
      "a:10,b:20,the result of a>b is:False\n",
      "a:10,b:20,the result of a<b is:True\n",
      "a:10,b:20,the result of a>=b is:False\n",
      "a:10,b:20,the result of a<=b is:True\n"
     ]
    }
   ],
   "source": [
    "#                   or Relational bhi same hote h or yeh boolean value hi dega use krte hai looping ke sath.\n",
    "#(2)Comparsion operators:->(==,!=,>,<,>=,<=)\n",
    "a=10\n",
    "b=20\n",
    "c=0\n",
    "c=a==b     #equal to-it returns a boolean value True or False\n",
    "print(\"a:{},b:{},the result of a==b is:{}\".format(a,b,c))\n",
    "c=a!=b     #not equal to\n",
    "print(\"a:{},b:{},the result of a!=b is:{}\".format(a,b,c))\n",
    "c=a>b      #greater than\n",
    "print(\"a:{},b:{},the result of a>b is:{}\".format(a,b,c))\n",
    "c=a<b      #less than\n",
    "print(\"a:{},b:{},the result of a<b is:{}\".format(a,b,c))\n",
    "c=a>=b     #greater than or equal to\n",
    "print(\"a:{},b:{},the result of a>=b is:{}\".format(a,b,c))\n",
    "c=a<=b     #less than or equal to\n",
    "print(\"a:{},b:{},the result of a<=b is:{}\".format(a,b,c))\n",
    "\n",
    "\n",
    "\n"
   ]
  },
  {
   "cell_type": "code",
   "execution_count": null,
   "id": "77bd41f0",
   "metadata": {},
   "outputs": [
    {
     "name": "stdout",
     "output_type": "stream",
     "text": [
      "var:5, the result of var>2 and var<10 is:True\n",
      "var:5, the result of var>2 or var<4 is:True\n",
      "var:5, the result of var>2 and var>10 is:False\n",
      "True <class 'bool'>\n",
      "a:2, the result of a in my_list is:False\n"
     ]
    }
   ],
   "source": [
    "#(3)Logical operators:-> and,or,not\n",
    "var=5\n",
    "c=var>2 and var<10          #and-returns True if both  conditions are True\n",
    "print(\"var:{}, the result of var>2 and var<10 is:{}\".format(var,c))\n",
    "c1=var>2 or var<4           #or-returns True if at least one condition is True \n",
    "print(\"var:{}, the result of var>2 or var<4 is:{}\".format(var,c1))\n",
    "c2=not(var>2 and var<10)    #not-returns True if the conditions is False\n",
    "print(\"var:{}, the result of var>2 and var>10 is:{}\".format(var,c2))\n",
    "print(c,type(c))\n",
    "\n",
    "#(4)Membership operators:-> in, not in.\n",
    "my_list=[1,2.5,\"hello\",True,2,\"karan\"]\n",
    "a=2\n",
    "c=a not in my_list #in-returns True if the value is found in the sequence\n",
    "print(\"a:{}, the result of a in my_list is:{}\".format(a,c))"
   ]
  },
  {
   "cell_type": "code",
   "execution_count": null,
   "id": "bd5d3b6e",
   "metadata": {},
   "outputs": [
    {
     "name": "stdout",
     "output_type": "stream",
     "text": [
      "True\n",
      "False\n",
      "False\n",
      "True\n",
      "140711433106504 140711433106504 140711433106504 140711433106504 1874167349168\n",
      "140711433106504 140711433106504 140711433106504 140711433106504 140711433106504 140711433106824\n",
      "True True True True False\n",
      "False False False False True\n"
     ]
    }
   ],
   "source": [
    "#(5)Identity operators:-> is, is not.\n",
    "a=[1,2,3,4,5,6]\n",
    "b=[1,2,3,4,5,6]\n",
    "d=10\n",
    "e=10\n",
    "print(d is e)    #True-because both are pointing to the same object in memory.\n",
    "\n",
    "e=1000\n",
    "print(d is e)    #False-because both are pointing to different objects in memory.\n",
    "\n",
    "c=a\n",
    "print(a is b)    #is-returns True if both variables point to the same objects.\n",
    "print(a is c)    #is-returns True if both variables point to the same objects.() \n",
    "\n",
    "a=10\n",
    "b=a\n",
    "c=b\n",
    "d=c\n",
    "c=10\n",
    "print(id(a),id(b),id(c),id(d),id(e))\n",
    "\n",
    "a=10\n",
    "b=a\n",
    "c=b\n",
    "d=c\n",
    "e=10\n",
    "f=20\n",
    "print(id(a),id(b),id(c),id(d),id(e),id(f))\n",
    "print(a is b,b is c,c is d,d is e,e is f)\n",
    "print(a is not b,b is not c,c is not d,d is not e,e is not f)"
   ]
  },
  {
   "cell_type": "code",
   "execution_count": null,
   "id": "d019796e",
   "metadata": {},
   "outputs": [
    {
     "name": "stdout",
     "output_type": "stream",
     "text": [
      "a= 20 : 0b10100 ,b= b':' 0b1010\n",
      "a&b= 0 : 0b0\n",
      "a|b= 30 : 0b11110\n",
      "a^b= 30 : 0b11110\n",
      "~a= -21 : -0b10101\n",
      "a<<2= 80 : 0b1010000\n",
      "a>>2= 5 : 0b101\n"
     ]
    }
   ],
   "source": [
    "#(6)Bitwise operators:->{&(AND),|(OR),^(XOR),~(NOT),<<(Left shift),>>(Right shift)}\n",
    "#                    :->It works on bits and performs bit by bit operation.These are used to compare (binary) numbers.\n",
    "a=20\n",
    "b=10\n",
    "print(\"a=\",a,\":\",bin(a),\",b=\",b\":\",bin(b))\n",
    "c=a&b           #AND-sets each bit to 1 if both bit are !-works right to left\n",
    "print(\"a&b=\",c,\":\",bin(c))\n",
    "c=a|b           #OR-sets each bit to 1 if one of the bits is 1\n",
    "print(\"a|b=\",c,\":\",bin(c))\n",
    "c=a^b           #XOR-sets each bit to 1 only one of the bits is 1\n",
    "print(\"a^b=\",c,\":\",bin(c))\n",
    "c=~a            #NOT-inverts all the bits\n",
    "print(\"~a=\",c,\":\",bin(c))\n",
    "c=a<<2          #LEFT Shift--are the bit of a to the left by 2 positions\n",
    "print(\"a<<2=\",c,\":\",bin(c))\n",
    "c=a>>2          #RIGHT shift-shifts the bits of a to the right by 2 positions\n",
    "print(\"a>>2=\",c,\":\",bin(c))\n"
   ]
  },
  {
   "cell_type": "code",
   "execution_count": 17,
   "id": "a93210b9",
   "metadata": {},
   "outputs": [
    {
     "name": "stdout",
     "output_type": "stream",
     "text": [
      "a: 10 b: 5 c: 15\n",
      "c+=2: 17\n",
      "c-=4: 13\n",
      "c*=2: 26 <class 'int'>\n",
      "c/=2: 13.0 <class 'float'>\n",
      "13\n",
      "c%=2: 1\n",
      "c**=2: 1\n",
      "c&=2: 0\n",
      "d//=2: 7\n",
      "**=3: 2197\n"
     ]
    }
   ],
   "source": [
    "#(7)Assignment operators:-(=,+=,-=,*=,/=,%=,//=,**=,&=,|=,^=,>>=,<<=)[assigns value to variable]\n",
    "a=10\n",
    "b=5\n",
    "c=a+b\n",
    "print(\"a:\",a,\"b:\",b,\"c:\",c)\n",
    "c+=2\n",
    "print(\"c+=2:\",c)\n",
    "c-=4\n",
    "print(\"c-=4:\",c)\n",
    "c*=2\n",
    "print(\"c*=2:\",c,type(c))\n",
    "c/=2\n",
    "print(\"c/=2:\",c,type(c))\n",
    "c=int(c)      #explicit conversion\n",
    "print(c)\n",
    "c%=2\n",
    "print(\"c%=2:\",c)\n",
    "c**=2\n",
    "print(\"c**=2:\",c)\n",
    "c&=2\n",
    "print(\"c&=2:\",c)\n",
    "d=15\n",
    "d//=2\n",
    "print(\"d//=2:\",d)\n",
    "d=13\n",
    "d**=3\n",
    "print(\"**=3:\",d)\n"
   ]
  },
  {
   "cell_type": "code",
   "execution_count": 2,
   "id": "a93b36a4",
   "metadata": {},
   "outputs": [
    {
     "name": "stdout",
     "output_type": "stream",
     "text": [
      "10.434782608695652\n",
      "10.434782608695652\n",
      "10.434782608695652 <class 'float'>\n",
      "17.608695652173914 <class 'float'>\n"
     ]
    }
   ],
   "source": [
    "#Python operators Precedence:->              B O D M A S\n",
    "#                          Brackets() Orders Division Multiplication Addition Subtraction    \n",
    "#Operator Precedence:-order of operations\n",
    "a=15\n",
    "b=5\n",
    "c=12\n",
    "d=23\n",
    "e=0\n",
    "e=(a+b)*c/d\n",
    "print(e)\n",
    "e=((a+b)*c)/d\n",
    "print(e)\n",
    "e=(a+b)*(c/d)\n",
    "print(e,type(e))\n",
    "e=a+(b*c)/d\n",
    "print(e,type(e))\n",
    "\n"
   ]
  },
  {
   "cell_type": "code",
   "execution_count": 1,
   "id": "68284201",
   "metadata": {},
   "outputs": [
    {
     "name": "stdout",
     "output_type": "stream",
     "text": [
      "Congratulations! You have passed the exam.your marks are: 60\n"
     ]
    }
   ],
   "source": [
    "#Control Statements/Flow Statement:-> If,If-else,If-elif-else,nested if.\n",
    "#also called [Decision-making statements]\n",
    "mark=int(input(\"enter your mark\"))\n",
    "if mark <33:\n",
    "    print(\"You are fail and need to reappear for the exam,Your marks are:\",mark)\n",
    "\n",
    "else:\n",
    "    print(\"Congratulations! You have passed the exam.your marks are:\",mark)    "
   ]
  },
  {
   "cell_type": "code",
   "execution_count": 4,
   "id": "23916457",
   "metadata": {},
   "outputs": [
    {
     "name": "stdout",
     "output_type": "stream",
     "text": [
      "5*1=5\n",
      "5*2=10\n",
      "5*3=15\n",
      "5*4=20\n",
      "5*5=25\n",
      "5*6=30\n",
      "5*7=35\n",
      "5*8=40\n",
      "5*9=45\n",
      "5*10=50\n",
      "your number is not upto the marks\n",
      "you skipped the table of 0\n",
      "you skipped the table of 1\n",
      "you skipped the table of 2\n",
      "you skipped the table of 3\n",
      "you skipped the table of 4\n",
      "you skipped the table of 5\n",
      "you skipped the table of 6\n",
      "you skipped the table of 7\n",
      "you skipped the table of 8\n",
      "you skipped the table of 9\n",
      "you skipped the table of 10\n"
     ]
    }
   ],
   "source": [
    "#Data flow Diagram[DFD]:-> whatever your particular position, what path will follow.\n",
    "x=int(input(\"enter a number\"))\n",
    "if x<10:\n",
    "   for i in range(1,11):\n",
    "      print(f\"{x}*{i}={x*i}\")\n",
    "print(\"your number is not upto the marks\")\n",
    "for i in range(11):\n",
    "      print(\"you skipped the table of\",i)"
   ]
  }
 ],
 "metadata": {
  "kernelspec": {
   "display_name": "Python 3",
   "language": "python",
   "name": "python3"
  },
  "language_info": {
   "codemirror_mode": {
    "name": "ipython",
    "version": 3
   },
   "file_extension": ".py",
   "mimetype": "text/x-python",
   "name": "python",
   "nbconvert_exporter": "python",
   "pygments_lexer": "ipython3",
   "version": "3.11.9"
  }
 },
 "nbformat": 4,
 "nbformat_minor": 5
}
