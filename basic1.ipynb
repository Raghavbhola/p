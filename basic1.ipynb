{
 "cells": [
  {
   "cell_type": "code",
   "execution_count": null,
   "id": "0ef38e69",
   "metadata": {},
   "outputs": [
    {
     "name": "stdout",
     "output_type": "stream",
     "text": [
      "Hey this is a string\n",
      "20\n"
     ]
    }
   ],
   "source": [
    "#print(\"installl\")\n",
    "#Link and indentation.\n",
    "#word ='python'\n",
    "#sentence =\"I am learning python programming language\"\n",
    "#paragraph='''I am learning python programming. Python is a high-level language, interpreted programming language.'''\n",
    "#pg=\"\"\"I am learning python programming. Python is simple and easy level language and portable language.\"\"\"\n",
    "'''print(word)\n",
    "print(sentence)\n",
    "print(paragraph)\n",
    "print(pg)\n",
    "print(type(word))\n",
    "print(type(pg))\n",
    "print(len(sentence)) \n",
    "print(len(pg))\n",
    "print(len(paragraph))\n",
    "print(type(sentence))\n",
    "print(type(paragraph))'''\n",
    "\n",
    "'''S=\"Hey this is a string\"\n",
    "length=len(S)\n",
    "print(S)\n",
    "print(length)'''\n"
   ]
  },
  {
   "cell_type": "code",
   "execution_count": null,
   "id": "10c24012",
   "metadata": {},
   "outputs": [
    {
     "name": "stdout",
     "output_type": "stream",
     "text": [
      "1 Karan aujla\n",
      "2 Karan aujla\n",
      "3 Karan aujla\n",
      "4 Karan aujla\n",
      "5 Karan aujla\n",
      "6 Karan aujla\n",
      "7 Karan aujla\n",
      "8 Karan aujla\n",
      "9 Karan aujla\n",
      "10 Karan aujla\n",
      "11 Karan aujla\n",
      "12 Karan aujla\n",
      "13 Karan aujla\n",
      "14 Karan aujla\n",
      "15 Karan aujla\n"
     ]
    }
   ],
   "source": [
    "#Multiple statement in a single line------>\n",
    "'''a=20\n",
    "b=10\n",
    "c=a+b\n",
    "print(c)\n",
    "s=\"this is another string\"\n",
    "s1=\"this is another string\"\n",
    "print(s)\n",
    "print(s1)\n",
    "print(len(s))\n",
    "print(len(s1))\n",
    "print(s+\" \"+s1)''' \n",
    "#a=50\n",
    "#b=20\n",
    "#c=a+b\n",
    "#print(c)\n",
    "#multiple statement group at suiter---->\n",
    "'''x=10\n",
    "y=45\n",
    "if x>y:\n",
    "    print(\"x is greater than b\")\n",
    "    print(x)\n",
    "elif x<y:\n",
    "    print(\"x is less than y\")\n",
    "else:\n",
    "    print(\"x is equal to y\")\n",
    "    print(x+y)''' \n",
    "        \n",
    "#variable Types-------------->\n",
    "\n",
    "'''a=20         #int\n",
    "b=20.5       #float\n",
    "c=\"hello\"          #str\n",
    "d=True             #bool \n",
    "e=[1,2,4,5,6,7,8]       #list\n",
    "f=(1,2,3,4,5,6,7,8)     #tuple\n",
    "g={1,2,3,4,5}           #set\n",
    "h={\"name\": \"Karan Aujla\", \"age\": 20, \"city\":\"california\"}   #dict\n",
    "print(type(a))\n",
    "print(type(b))\n",
    "print(type(c))\n",
    "print(type(d))\n",
    "print(type(e))\n",
    "print(type(f))\n",
    "print(type(g))\n",
    "print(type(h))'''\n",
    "\n",
    "#Python standard data types-->Number,String,List,Tuple,Dictionary\n",
    "#1.Number-int,float,complex\n",
    "#2.String-str\n",
    "#3.list-list                                                            *#Explicit:->External\n",
    "#4.Tuple-tuple                                                           #Implicit:->internal(force fully krvanah)\n",
    "#5.Dictionary-dict\n",
    "#complex number-> A no. with a real and imaginary part{{3+4j}}\n",
    "'''a=3.14j   #complex\n",
    "b=2+3.14j  #complex\n",
    "print(type(a))\n",
    "print(type(b))\n",
    "print(a+b) #2+6.28j\n",
    "a=-987\n",
    "b=-21.9\n",
    "c=-3+4j\n",
    "d=-0*260\n",
    "e=4.56 + 2j\n",
    "print(type(a))       #int\n",
    "print(type(b))       #float\n",
    "print(type(c))       #complex\n",
    "print(type(d))       #int\n",
    "print(type(e))'''       #complex\n",
    "\n",
    "#Python Strings:-->Sequence of characters enclosed in single or double quotes\n",
    "#str=\"hello world\"\n",
    "'''print(str)\n",
    "print(type(str))\n",
    "str=\"Hello World Karan Aujla\"  #starting from index 0\n",
    "print(len(str))   #length of string-(Len-1)Last index\n",
    "print(str[18])    #first character\n",
    "print(str[2:7])   #first character to 6th character /#Slicing(string[start:end])-print function will go(end-1)\n",
    "print(str[2:])    #from 2nd index to end,end index is exclusive\n",
    "print(str[-1])    #last character\n",
    "print(str[:7])    #from start to 6th index\n",
    "print(str[-5:-1])  #from 5th last to 2nd last character\n",
    "print(str*2)       #Repetition\n",
    "print(str + \" P-Pop culture \")''' #Concatination\n",
    "\n",
    "#Mutable->jo modify ho sakee.\n",
    "#str[0]=\"h\"     #strings are immutable-cannot change the value of a string #Immutable\n",
    "#print(str.upper())  #convert to uppercase\n",
    "#print(str.lower())   #convert to lowercase\n",
    "#print(str)\n",
    "#9sep2025--------------------------------------------------------------------------------------------------------------------\n",
    "'''a=10\n",
    "print(id(a))       #Memory address\n",
    "print(id(10))\n",
    "del a'''\n",
    "\n",
    "#a=20\n",
    "#b=a\n",
    "#c=b\n",
    "#del 20\n",
    "#del a\n",
    "#print(id(b),id(c),id(20))\n",
    "#print(type(a)) \n",
    "#Variable are of two types--> Local and Global-scope of the variable.\n",
    "'''a,b,c,d=10,20.5,\"karan aujla\",True\n",
    "print(a,type(a))      #int\n",
    "print(b,type(b))      #float\n",
    "print(c,type(c))      #str\n",
    "print(d,type(d))'''      #bool\n",
    "\n",
    "#python Sequence data types:->List-[], tuple-(), Range-range()\n",
    "#list:->ordered collection of items enclosed in Square-brackets, mutable,allows duplicate elements.\n",
    "'''my_list=[1,2.5,\"hello\",True,2,\"karan\",3,4,5,6,7,8]\n",
    "tiny_list=[123,\"Aujla\"]\n",
    "print(my_list,type(my_list))\n",
    "print(tiny_list,type(tiny_list))\n",
    "print(len(my_list),\"second list length\",len(tiny_list))  #length of list\n",
    "print(my_list[2])        #first element-index starts from 0 and end at (len-1)\n",
    "print(my_list[2:])       #Slicing-elements from index 2 to 13\n",
    "print(my_list[0:14:3])   \n",
    "print(my_list[:4])       \n",
    "print(my_list*2)         #repetition\n",
    "print(my_list+tiny_list)  #concatination\n",
    "print(my_list)'''\n",
    "#Arrays->set of elements who stores homogeneous data. {homo-same}\n",
    "#Tuple->ordered collection of items enclosed in Parentheses,immutable,allows duplicate elements.\n",
    "#my_tuple=(1,2.5,\"hello\",True,2,\"karan\",2,2.5)\n",
    "#my_tuple2=1,2.5,\"helle\",True,2,\"karan\",2,2.5 #parenthesis are optional\n",
    "#my_tuple3=(1,)  #single elements tuple , comma is mandatory\n",
    "#my_tuple4=(1)   #empty tuple\n",
    "#print(my_tuple),type(my_tuple),len(my_tuple) \n",
    "#print(my_tuple[2])  #accessing tuple elements\n",
    "#print(my_tuple[1:5])\n",
    "#print(my_tuple[2:])\n",
    "#print(my_tuple*2)  #repetition\n",
    "#print(my_tuple+my_tuple3) #concatination\n",
    "#print(type(my_tuple3))\n",
    "\n",
    "#Range->genrates a sequences of numbers,commonly,used in for loops.\n",
    "m=range(10)  #start,stop,step  #parameter bolte hai.\n",
    "#print(m)\n",
    "#print(type(m))\n",
    "#for i in range(15):   #start-by default 0, step-(n-1),step- by default 1  #step ko hum integer value hi dege, float nhi chalega like1.5\n",
    "    #print(i+1,\"Karan aujla\")\n"
   ]
  },
  {
   "cell_type": "code",
   "execution_count": null,
   "id": "f2e61253",
   "metadata": {},
   "outputs": [
    {
     "name": "stdout",
     "output_type": "stream",
     "text": [
      "[1, 2, 3, 4, 5, 6, 7, 8, 9, 10]\n",
      "(1, 2, 3, 4, 5, 6, 7, 8, 9, 10)\n"
     ]
    }
   ],
   "source": [
    "#ASCII values:-> American Standard Code For Information interchange, 0 2 5 5 is a unique value hai  keypad m range hai\n",
    "#(ord A)->ASCII value print krva skte hai.\n",
    "#Binary data types:->bytes,bytearray,memory view\n",
    "#Bytes:-immutable sequences of bytes,used to store binary data.\n",
    "#b=bytes([54,66,77,68,90])   #list of integers\n",
    "#print(b,type(b))\n",
    "#print(ord('('))   #ASSII value of charater\n",
    "#questions:->>(1)print sum(a) of elements in the list\n",
    "'''a=[2,2,2,22,3,4,5,6,7]  #list\n",
    "b=(2,3,4,4,4,45,5,4,4)  #tuple\n",
    "c={3,3,4,4,5,5,5,6,6,}  #range\n",
    "print(a)\n",
    "print(b)                                   # *list,tuple dono hi heterogenous type ke hote hai\n",
    "print(c)                                   # List are mutable but tuple is immutable.\n",
    "\n",
    "a[2]=\"karan\"   #mutable\n",
    "b(2)==\"aujla\"   #immutable\n",
    "print(a)\n",
    "print(b)'''\n",
    "#(2):->\n",
    "a=[1,2,3,4,5,6,7,8,9,10]\n",
    "b=(1,2,3,4,5,6,7,8,9,10)\n",
    "print(a)\n",
    "print(b)\n",
    "a[2]=\"karan\" #mutable\n",
    "b[3]=\"karan\"  #immutable\n"
   ]
  },
  {
   "cell_type": "code",
   "execution_count": 1,
   "id": "ace9b74e",
   "metadata": {},
   "outputs": [
    {
     "name": "stdout",
     "output_type": "stream",
     "text": [
      "[2, 5]\n",
      "13\n"
     ]
    }
   ],
   "source": [
    "#set:-> unordered collection of unique items enclosed in curly braces,mutable,no duplicate elements and set is heterogenous behaviour.\n",
    "#s={1,2.5,\"hello\",False,5+6j,1.23-4,1,2.5,\"hello\"}\n",
    "#print(s,type(s))\n",
    "#s={[1,2,3,\"four\"],2.5,\"hello\",False,5+6j,1.23-4,1,2.5,\"hello\",(1,2,\"three\")}\n",
    "#s[2]=int(10)\n",
    "#print(s,type(s))\n",
    "#hash \n",
    "Li = [1,2,3,[1,2,3,\"four\",[11,12,13]],[2,5],\"hello\",False]\n",
    "print(Li[4])\n",
    "print(Li[3][4][2])\n",
    "\n"
   ]
  },
  {
   "cell_type": "code",
   "execution_count": 18,
   "id": "41a3c9b6",
   "metadata": {},
   "outputs": [
    {
     "name": "stdout",
     "output_type": "stream",
     "text": [
      "{1: 'Karan', 2: 'Aujla', 3: 'p-pop culture', 4: 'Daytona', 5: 'At peace', 6: 'For a reason'} <class 'dict'>\n",
      "{1: 'Karan', 2: 'Aujla', 3: 'p-pop culture', 4: 'Daytona', 5: 'At peace', 6: 'For a reason'} ['six']\n",
      "dict_keys([1, 2, 3, 4, 5, 6])\n",
      "dict_items([(1, 'Karan'), (2, 'Aujla'), (3, 'p-pop culture'), (4, 'Daytona'), (5, 'At peace'), (6, 'For a reason')])\n",
      "{1: 'Karan', 2: 'Aujla', 3: 'p-pop culture', 4: 'i really do', 5: 'At peace', 6: 'For a reason'}\n"
     ]
    }
   ],
   "source": [
    "#s={[1,2,3,\"four\"],2.5,\"hello\",False,5+6j,1.23-4,1,2.5,\"hello\",(1,2,\"three\")}\n",
    "#s[2]=int(10)\n",
    "#print(s,type(s))\n",
    "#Dictionary:->unordered collection of key-value pairs enclosed in curly braces,mutable,*keys must be unique and immutable\n",
    "#Ex:->{1:50:00}\n",
    "artist={1:\"Karan\",2:\"Aujla\",3:\"p-pop culture\",4:\"Daytona\",5:\"At peace\",6:\"For a reason\"}\n",
    "print(artist,type(artist))\n",
    "print(artist,['six'])         #accessing value key\n",
    "print(artist.keys())            #list of keys/values\n",
    "print(artist.items())           #list of key-value pairs\n",
    "artist[4]=\"i really do\"       #modifying value using key\n",
    "print(artist)\n",
    " "
   ]
  },
  {
   "cell_type": "code",
   "execution_count": null,
   "id": "e43eb1d2",
   "metadata": {},
   "outputs": [
    {
     "name": "stdout",
     "output_type": "stream",
     "text": [
      "<class 'bool'>\n",
      "<class 'bool'>\n",
      "False\n",
      "True\n",
      "False\n",
      "True\n",
      "<class 'NoneType'>\n",
      "True\n",
      "None\n"
     ]
    }
   ],
   "source": [
    "#Boolean:-Bool-True or False\n",
    "'''print(type(True))\n",
    "print(type(False))\n",
    "x=10\n",
    "y=20\n",
    "print(x>y)  #false\n",
    "print(x<y)  #true\n",
    "print(x==y) #false\n",
    "print(x!=y) #True\n",
    "x=None\n",
    "print(type(x)) #Nonetype\n",
    "print(x is None)  #ture\n",
    "print(x)'''"
   ]
  },
  {
   "cell_type": "code",
   "execution_count": 12,
   "id": "c7826446",
   "metadata": {},
   "outputs": [
    {
     "name": "stdout",
     "output_type": "stream",
     "text": [
      "[1, 2, 3, 4, 5] <class 'list'> [1, 2, 3, 4, 5] <class 'list'>\n",
      "30 <class 'str'>\n",
      "<class 'int'> 30\n"
     ]
    }
   ],
   "source": [
    "#Type conversion:->converting one data type to another data type\n",
    "'''a=int(10)     #explicit conversion                          *Two types of conversion:->(1)Implicit:-internal\n",
    "b=int(20.5)   #explicit conversion                                                     (2)Explicit:-External(force fully)\n",
    "x=\"30\"\n",
    "print(type(x))  #(str)\n",
    "c=int(x)\n",
    "print(type(c),c)''' #(int),30\n",
    "\n",
    "#Type casting:->converting one data type to another implicity\n",
    "a=10\n",
    "b=20.5\n",
    "c=[1,2,3,4,5]\n",
    "d=[1,2,3,4,5]\n",
    "b=int(b)\n",
    "x=\"30\"\n",
    "print(c,type(c),d,type(d))\n",
    "#z=c+d/a+b   #implicit conversion\n",
    "#print(z,type(z))\n",
    "#z=a+x\n",
    "print(x,type(x))\n",
    "c=int(x)\n",
    "print(type(c),c)\n"
   ]
  },
  {
   "cell_type": "code",
   "execution_count": 20,
   "id": "d121545d",
   "metadata": {},
   "outputs": [
    {
     "name": "stdout",
     "output_type": "stream",
     "text": [
      "<class 'int'> 10\n",
      "<class 'int'> 20\n",
      "<class 'int'> 8\n",
      "<class 'int'> 10\n",
      "<class 'int'> 20\n"
     ]
    }
   ],
   "source": [
    "#Shallow copy:->creates a new object that refrences the original objects\n",
    "#Explicit type conversion\n",
    "a=int(10)\n",
    "b=int(20.5000000)\n",
    "c=int(3*2.99903)\n",
    "a1=10\n",
    "a2=20\n",
    "a3=30\n",
    "print(type(a),a)\n",
    "print(type(b),b)\n",
    "print(type(c),c)\n",
    "print(type(a1),a1)\n",
    "print(type(a2),a2)"
   ]
  },
  {
   "cell_type": "code",
   "execution_count": 24,
   "id": "9e9f53d6",
   "metadata": {},
   "outputs": [
    {
     "name": "stdout",
     "output_type": "stream",
     "text": [
      "Hello World Hello world <class 'str'>\n",
      "['H', 'e', 'l', 'l', 'o', ' ', 'W', 'o', 'r', 'l', 'd', ' ', 'H', 'e', 'l', 'l', 'o', ' ', 'w', 'o', 'r', 'l', 'd'] <class 'list'>\n",
      "('H', 'e', 'l', 'l', 'o', ' ', 'W', 'o', 'r', 'l', 'd', ' ', 'H', 'e', 'l', 'l', 'o', ' ', 'w', 'o', 'r', 'l', 'd') <class 'tuple'>\n",
      "{'H', 'w', ' ', 'r', 'e', 'o', 'd', 'W', 'l'} <class 'set'>\n"
     ]
    }
   ],
   "source": [
    "#conversion to sequences data types.\n",
    "#list-list[],tuple-tuple(),set-set()\n",
    "a='Hello World Hello world'\n",
    "print(a,type(a))\n",
    "b=list(a)\n",
    "c=tuple(a)\n",
    "d=set(a)\n",
    "print(b,type(b))\n",
    "print(c,type(c))\n",
    "print(d,type(d))"
   ]
  },
  {
   "cell_type": "code",
   "execution_count": null,
   "id": "45b529ec",
   "metadata": {},
   "outputs": [
    {
     "name": "stdout",
     "output_type": "stream",
     "text": [
      "bonjour le monde <class 'str'>\n",
      "你好，世界 <class 'str'>\n",
      "A <class 'str'>\n",
      "आ <class 'str'>\n",
      "અ <class 'str'>\n",
      "ஈ <class 'str'>\n",
      "¾ <class 'str'>\n",
      "α <class 'str'>\n",
      "Е <class 'str'>\n",
      "0 <class 'str'>\n",
      "₹ <class 'str'>\n"
     ]
    }
   ],
   "source": [
    "#unicode system:->UTF(Uniform Transformation Format) UTF-8,UTF-16,UTF-32.\n",
    "#Character Encoding:->(UTF-8,UTF-16,UTF-32) A sequence of code points is represented using in memory as a set of code units,mapped in 8-bit bytes.\n",
    "#                                           The rules for translating a unicode into a sequence of bytes is called Character encoding\n",
    "#*UTF-8 is the most commonly used encoding for unicode strings, as it backward compatible with ASCIIand can represent all Unicode characters.\n",
    "str=\"bonjour le monde\" #french\n",
    "u_str=\"你好，世界\" #chinese language\n",
    "print(str,type(str))\n",
    "print(u_str,type(u_str))\n",
    "var=\"\\u0041\"           #unicode escape sequence for chr'A'\n",
    "print(var,type(var))\n",
    "var1=\"\\u0906\"          #unicode escape sequence for chr'आ'\n",
    "print(var1,type(var1))\n",
    "var2=\"\\u0A85\"          #unicode escape sequence for chr'અ'\n",
    "print(var2,type(var2))\n",
    "var3=\"\\u0b88\"          #unicode escape sequence for chr'ஈ'\n",
    "print(var3,type(var3))\n",
    "var4=\"\\u00be\"          #unicode escape sequence for chr'¾'\n",
    "print(var4,type(var4))\n",
    "var5=\"\\u03b1\"          #unicode escape sequence for chr'α'\n",
    "print(var5,type(var5))\n",
    "var6=\"\\u0415\"          #unicode escape sequence for chr'E'\n",
    "print(var6,type(var6))\n",
    "var7=\"\\u0030\"          #unicode escape sequence for chr'0'\n",
    "print(var7,type(var7))\n",
    "var8=\"\\u20b9\"          #unicode escape sequence for chr'₹'\n",
    "print(var8,type(var8))"
   ]
  },
  {
   "cell_type": "code",
   "execution_count": 2,
   "id": "1bdd20e8",
   "metadata": {},
   "outputs": [
    {
     "name": "stdout",
     "output_type": "stream",
     "text": [
      "₹\n",
      "b'\\xe2\\x82\\xb9' <class 'bytes'>\n",
      "b'\\xff\\xfe\\xb9 ' <class 'bytes'>\n",
      "b'\\xff\\xfe\\x00\\x00\\xb9 \\x00\\x00' <class 'bytes'>\n",
      "₹ <class 'str'>\n",
      "₹ <class 'str'>\n",
      "₹ <class 'str'>\n"
     ]
    }
   ],
   "source": [
    "st=\"\\u20b9\" \n",
    "print(st) \n",
    "tb=st.encode('UTF-8')    #encoding-converting unicode strings to bytes.\n",
    "tb1=st.encode('UTF-16')\n",
    "tb2=st.encode('UTF-32')\n",
    "print(tb,type(tb))\n",
    "print(tb1,type(tb1))\n",
    "print(tb2,type(tb2))\n",
    "\n",
    "ust=tb.decode('UTF-8')    #decoding-converting bytes to unicode string\n",
    "ust1=tb1.decode('UTF-16')\n",
    "ust2=tb2.decode('UTF-32')\n",
    "print(ust,type(ust))\n",
    "print(ust1,type(ust1))\n",
    "print(ust2,type(ust2)) \n"
   ]
  },
  {
   "cell_type": "code",
   "execution_count": null,
   "id": "d9962667",
   "metadata": {},
   "outputs": [],
   "source": [
    "#Python operators:- arithmetic,comparison,Logical,bitwise,assignment,membership,identity"
   ]
  },
  {
   "cell_type": "code",
   "execution_count": null,
   "id": "aac197ee",
   "metadata": {},
   "outputs": [],
   "source": []
  },
  {
   "cell_type": "code",
   "execution_count": null,
   "id": "c01d37b0",
   "metadata": {},
   "outputs": [],
   "source": []
  }
 ],
 "metadata": {
  "kernelspec": {
   "display_name": "Python 3",
   "language": "python",
   "name": "python3"
  },
  "language_info": {
   "codemirror_mode": {
    "name": "ipython",
    "version": 3
   },
   "file_extension": ".py",
   "mimetype": "text/x-python",
   "name": "python",
   "nbconvert_exporter": "python",
   "pygments_lexer": "ipython3",
   "version": "3.11.9"
  }
 },
 "nbformat": 4,
 "nbformat_minor": 5
}
